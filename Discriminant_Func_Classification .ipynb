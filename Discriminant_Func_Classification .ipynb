{
 "cells": [
  {
   "cell_type": "markdown",
   "metadata": {},
   "source": [
    "   Considere as funções discriminantes:\n",
    "\n",
    "            g1(x) = - x1 + x2\n",
    "            g2(x) = x1 + x2 – 5\n",
    "            g3(x) =-x2 + 1\n",
    "   \n",
    "   A regra de decisão é\n",
    "  X pertence a Di Somente SE gi(x) positiva e x pertence a Dcj para todo j diferente de i.\n",
    "\n",
    "   Desenhe os limites de decisão no espaço de padrões. Identifique as regiões de classificação, e e assinale quaisquer regiões de indeterminação. Classifique então as amostras x1 = (6, 5), x2 = (2.5, 2), e x3 = (3, 0)."
   ]
  },
  {
   "cell_type": "markdown",
   "metadata": {},
   "source": [
    "   A ideia contida nesta solução:\n",
    "   1) Criar uma matriz ou uma malha de pontos(100x100)\n",
    "   2) Definir as funções discriminantes g1,g2,g3, quando assumirem os valores positvos retornam True, para satisfazer a regra de decisão.\n",
    "   3) À medida que os valores são adicionados na lista,pelas funções; é feita a classificação.\n",
    "   Amostras\n",
    "   x1 = (6, 5) -> Classe 2\n",
    "   x2 = (2.5, 2) -> Indeterminado\n",
    "   x3 = (3, 0) -> Classe 3\n",
    "   4) É feito um gráfico com os limites de decisão no espaço de padrões.\n"
   ]
  },
  {
   "cell_type": "code",
   "execution_count": 70,
   "metadata": {},
   "outputs": [
    {
     "data": {
      "image/png": "[encoded data removed]",
      "text/plain": [
       "<Figure size 720x360 with 1 Axes>"
      ]
     },
     "metadata": {
      "needs_background": "light"
     },
     "output_type": "display_data"
    },
    {
     "data": {
      "text/plain": [
       "<Figure size 2880x360 with 0 Axes>"
      ]
     },
     "metadata": {},
     "output_type": "display_data"
    }
   ],
   "source": [
    "import numpy as np\n",
    "from matplotlib import pyplot as plt\n",
    "\n",
    "#Criar as funções booleanas que recebem o valor True quando maior que zero.\n",
    "def g1(xi,yi):\n",
    "    if - xi + yi > 0:\n",
    "        return True\n",
    "    else:\n",
    "        return False\n",
    "def g2(xi,yi):\n",
    "    if   xi + yi -5 > 0:\n",
    "        return True\n",
    "    else:\n",
    "        return False\n",
    "def g3(xi,yi):\n",
    "    if - yi + 1 > 0:\n",
    "        return True\n",
    "    else:\n",
    "         return False\n",
    "lista_g1=[]\n",
    "lista_g2=[]\n",
    "lista_g3=[]\n",
    "lista_indeterminado =[]\n",
    "l=c=100 # numero de elementos da linha l e coluna c (100x100)\n",
    "x=xi=yi=0\n",
    "for i in range (l):\n",
    "    xi = x + i/10\n",
    "    for j in range (c):\n",
    "        yi = y + j/10\n",
    "        #CLASSIFICAÇÃO\n",
    "        if g1(xi,yi) and not g2(xi,yi) and  not g3(xi,yi): \n",
    "            lista_g1.append([xi,yi]) # pertence a classe 1\n",
    "        elif not g1(xi,yi) and g2(xi,yi) and not g3(xi,yi):\n",
    "            lista_g2.append([xi,yi]) # pertence a classe 2\n",
    "        elif not g1(xi,yi) and not g2(xi,yi) and  g3(xi,yi):\n",
    "            lista_g3.append([xi,yi]) # pertence a classe 3\n",
    "        else:\n",
    "            lista_indeterminado.append([xi,yi]) # Compõe a região 'Indeterminada'\n",
    "\n",
    "'''Para plotar os pontos, precisamos passar pra função scatter o valor do X e o valor do Y dos pontos.\n",
    "O valor do X é a primeira coluna, enquanto que o valor do Y é a segunda.\n",
    "Fazemos esse processo pra separar ambas colunas mesmo, e dps jogamos na função scatter.'''\n",
    "            \n",
    "array_g1 = np.array(lista_g1)  #matriz onde a primeira coluna é o valor de X  e a seg é o Valor de Y\n",
    "x_g1 = array_g1[:,0] # o ':' representa que queremos tds linhas e o '0' significa que queremos a primeira coluna(valores de x)\n",
    "y_g1 = array_g1[:,1] # o ':' representa que queremos tds linhas e o '1' significa que queremos a segunda coluna(valores de y)\n",
    "array_g2 = np.array(lista_g2) \n",
    "x_g2 = array_g2[:,0] \n",
    "y_g2 = array_g2[:,1] \n",
    "array_g3 = np.array(lista_g3) \n",
    "x_g3 = array_g3[:,0] \n",
    "y_g3 = array_g3[:,1] \n",
    "array_g4 = np.array(lista_indeterminado)  \n",
    "x_g4 = array_g4[:,0] \n",
    "y_g4 = array_g4[:,1] \n",
    "\n",
    "#plotagem do gráfico do limite de decisão\n",
    "plt.scatter(x_g1,y_g1, color = 'green', label='Classe 1')\n",
    "plt.scatter(x_g2,y_g2, color = 'blue', label='Classe 2')\n",
    "plt.scatter(x_g3,y_g3, color = 'yellow', label='Classe 3')\n",
    "plt.scatter(x_g4,y_g4, color = 'red', label='Indeterminado')\n",
    "plt.legend()\n",
    "plt.figure(figsize=(40,5))\n",
    "plt.show() \n",
    "\n"
   ]
  },
  {
   "cell_type": "markdown",
   "metadata": {},
   "source": [
    "    Qual seria uma forma de não haver regiões de indeterminação?\n",
    "Possível solução: É possível verificar que existem ponto na superfície de indeterminação próxima as retas que se interceptam;\n",
    "dessa forma, uma maneira de não haver regiões de indeterminação é tmar um ponto da região indeterminada e calcular a distancia deste ponto até as retas, classficando-o com a reta de menor distancia.\n",
    "Basicamente, classifica-se uma superfície indeterminada com classficador mais próximo."
   ]
  }
 ],
 "metadata": {
  "kernelspec": {
   "display_name": "Python 3",
   "language": "python",
   "name": "python3"
  },
  "language_info": {
   "codemirror_mode": {
    "name": "ipython",
    "version": 3
   },
   "file_extension": ".py",
   "mimetype": "text/x-python",
   "name": "python",
   "nbconvert_exporter": "python",
   "pygments_lexer": "ipython3",
   "version": "3.7.6"
  }
 },
 "nbformat": 4,
 "nbformat_minor": 4
}
